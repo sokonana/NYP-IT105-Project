{
 "cells": [
  {
   "cell_type": "code",
   "execution_count": 8,
   "id": "d2e8632f",
   "metadata": {},
   "outputs": [],
   "source": [
    "# Import all required libraries\n",
    "import pickle\n",
    "import numpy as np\n",
    "import pandas as pd\n",
    "\n",
    "\n",
    "# Import model selection and data preparation libraries\n",
    "from sklearn.model_selection import train_test_split\n",
    "from sklearn.preprocessing import StandardScaler, LabelEncoder\n",
    "from sklearn import preprocessing\n",
    "\n",
    "# Import algorithm libraries\n",
    "from sklearn.svm import SVC\n",
    "\n",
    "# Load scaler and model from file\n",
    "scaler = pickle.load(open('scaler.sav','rb'))\n",
    "model = pickle.load(open('finalized_model.sav','rb'))\n",
    "\n",
    "whole_dataset = pd.read_csv('Train_Data.csv')\n",
    "\n",
    "# Load 10 subject not used in training to test performance\n",
    "test_subject = (whole_dataset.groupby(by='subject', axis=0).count().index[10:20])\n",
    "selected_dataset = whole_dataset[whole_dataset['subject'].isin(test_subject)]\n",
    "\n",
    "# The DD and UD timings of each key have been showed to be highly correlated to each other \n",
    "# in a separate analysis. Hence, we will drop all features starting with 'DD'\n",
    "all_features = selected_dataset.columns[3:34]\n",
    "selected_features = [x for x in all_features if not x.startswith('DD')]\n",
    "\n",
    "# Get a copy of dataset with selected feature columns\n",
    "df = selected_dataset[selected_features].copy()\n"
   ]
  },
  {
   "cell_type": "code",
   "execution_count": 10,
   "id": "eec9789a",
   "metadata": {},
   "outputs": [
    {
     "data": {
      "text/plain": [
       "H.period           0.0898\n",
       "UD.period.t        0.1026\n",
       "H.t                0.0671\n",
       "UD.t.i             0.0238\n",
       "H.i                0.0563\n",
       "UD.i.e            -0.0098\n",
       "H.e                0.0700\n",
       "UD.e.five          0.3058\n",
       "H.five             0.0473\n",
       "UD.five.Shift.r    0.2067\n",
       "H.Shift.r          0.0677\n",
       "UD.Shift.r.o       0.1169\n",
       "H.o                0.0924\n",
       "UD.o.a             0.0542\n",
       "H.a                0.1019\n",
       "UD.a.n            -0.0095\n",
       "H.n                0.0660\n",
       "UD.n.l             0.0955\n",
       "H.l                0.0942\n",
       "UD.l.Return        0.1255\n",
       "H.Return           0.0584\n",
       "Name: 4020, dtype: float64"
      ]
     },
     "execution_count": 10,
     "metadata": {},
     "output_type": "execute_result"
    }
   ],
   "source": [
    "df.iloc[20]"
   ]
  },
  {
   "cell_type": "code",
   "execution_count": 2,
   "id": "8448ff8a",
   "metadata": {},
   "outputs": [],
   "source": [
    "le = LabelEncoder()\n",
    "y_encoded = le.fit_transform(whole_dataset['subject'])"
   ]
  },
  {
   "cell_type": "code",
   "execution_count": 7,
   "id": "cc128219",
   "metadata": {},
   "outputs": [
    {
     "data": {
      "text/plain": [
       "array(['s002', 's003', 's004', 's005', 's007', 's008', 's010', 's011',\n",
       "       's012', 's013', 's015', 's016', 's017', 's018', 's019', 's020',\n",
       "       's021', 's022', 's024', 's025', 's026', 's027', 's028', 's029',\n",
       "       's030', 's031', 's032', 's033', 's034', 's035', 's036', 's037',\n",
       "       's038', 's039', 's040', 's041', 's042', 's043', 's044', 's046',\n",
       "       's047', 's048', 's049', 's050', 's051', 's052', 's053', 's054',\n",
       "       's055', 's056', 's057'], dtype=object)"
      ]
     },
     "execution_count": 7,
     "metadata": {},
     "output_type": "execute_result"
    }
   ],
   "source": [
    "le.classes_"
   ]
  },
  {
   "cell_type": "code",
   "execution_count": 6,
   "id": "ea0e160f",
   "metadata": {},
   "outputs": [
    {
     "data": {
      "text/plain": [
       "array(['s002', 's003', 's004'], dtype=object)"
      ]
     },
     "execution_count": 6,
     "metadata": {},
     "output_type": "execute_result"
    }
   ],
   "source": [
    "le.inverse_transform([0,1,2])"
   ]
  },
  {
   "cell_type": "code",
   "execution_count": 15,
   "id": "5d81ccd3",
   "metadata": {},
   "outputs": [
    {
     "data": {
      "text/plain": [
       "array([12.4, 13.1])"
      ]
     },
     "execution_count": 15,
     "metadata": {},
     "output_type": "execute_result"
    }
   ],
   "source": [
    "test = np.array([12.4, 13.1])\n",
    "np.append(test, 1.0)\n",
    "test"
   ]
  }
 ],
 "metadata": {
  "kernelspec": {
   "display_name": "Python 3 (ipykernel)",
   "language": "python",
   "name": "python3"
  },
  "language_info": {
   "codemirror_mode": {
    "name": "ipython",
    "version": 3
   },
   "file_extension": ".py",
   "mimetype": "text/x-python",
   "name": "python",
   "nbconvert_exporter": "python",
   "pygments_lexer": "ipython3",
   "version": "3.10.12"
  }
 },
 "nbformat": 4,
 "nbformat_minor": 5
}
