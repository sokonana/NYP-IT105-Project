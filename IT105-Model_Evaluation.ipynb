{
 "cells": [
  {
   "cell_type": "markdown",
   "id": "b8a6afa2",
   "metadata": {},
   "source": [
    "# Model Evaluation\n",
    "\n",
    "This file captures the results of different model runs and evaluates the best performance in prediction on test data after parameter tuning.\n",
    "\n",
    "### Data Preparation\n",
    "\n",
    "The keystroke dynamics data from 20 users are first selected and pre-processed before the learning starts.  The data are first split in 20/80 for testing / training dataset.  The data are then scaled, followed by dimensional reduction."
   ]
  },
  {
   "cell_type": "code",
   "execution_count": 129,
   "id": "8e33f5d4",
   "metadata": {},
   "outputs": [],
   "source": [
    "# Import all required libraries\n",
    "import mlflow\n",
    "import mlflow.sklearn\n",
    "from mlflow.models import infer_signature\n",
    "\n",
    "import numpy as np\n",
    "import pandas as pd\n",
    "import matplotlib.pyplot as plt\n",
    "import seaborn as sns\n",
    "\n",
    "from sklearn.model_selection import train_test_split\n",
    "from sklearn.model_selection import cross_val_score\n",
    "from sklearn.model_selection import GridSearchCV\n",
    "from sklearn.preprocessing import StandardScaler\n",
    "from sklearn.decomposition import PCA\n",
    "from sklearn.decomposition import KernelPCA\n",
    "\n",
    "# Import algorithm library\n",
    "from sklearn.tree import DecisionTreeClassifier\n",
    "from sklearn.neighbors import KNeighborsClassifier\n",
    "from sklearn.naive_bayes import GaussianNB\n",
    "from sklearn.linear_model import LogisticRegression\n",
    "from sklearn.svm import SVC"
   ]
  },
  {
   "cell_type": "markdown",
   "id": "bdf4fd07",
   "metadata": {},
   "source": [
    "#### Loading Data and Selection on Features and Subjects"
   ]
  },
  {
   "cell_type": "code",
   "execution_count": 130,
   "id": "b2b3b0cc",
   "metadata": {},
   "outputs": [
    {
     "data": {
      "text/html": [
       "<div>\n",
       "<style scoped>\n",
       "    .dataframe tbody tr th:only-of-type {\n",
       "        vertical-align: middle;\n",
       "    }\n",
       "\n",
       "    .dataframe tbody tr th {\n",
       "        vertical-align: top;\n",
       "    }\n",
       "\n",
       "    .dataframe thead th {\n",
       "        text-align: right;\n",
       "    }\n",
       "</style>\n",
       "<table border=\"1\" class=\"dataframe\">\n",
       "  <thead>\n",
       "    <tr style=\"text-align: right;\">\n",
       "      <th></th>\n",
       "      <th>H.period</th>\n",
       "      <th>UD.period.t</th>\n",
       "      <th>H.t</th>\n",
       "      <th>UD.t.i</th>\n",
       "      <th>H.i</th>\n",
       "      <th>UD.i.e</th>\n",
       "      <th>H.e</th>\n",
       "      <th>UD.e.five</th>\n",
       "      <th>H.five</th>\n",
       "      <th>UD.five.Shift.r</th>\n",
       "      <th>...</th>\n",
       "      <th>UD.Shift.r.o</th>\n",
       "      <th>H.o</th>\n",
       "      <th>UD.o.a</th>\n",
       "      <th>H.a</th>\n",
       "      <th>UD.a.n</th>\n",
       "      <th>H.n</th>\n",
       "      <th>UD.n.l</th>\n",
       "      <th>H.l</th>\n",
       "      <th>UD.l.Return</th>\n",
       "      <th>H.Return</th>\n",
       "    </tr>\n",
       "  </thead>\n",
       "  <tbody>\n",
       "    <tr>\n",
       "      <th>0</th>\n",
       "      <td>0.1491</td>\n",
       "      <td>0.2488</td>\n",
       "      <td>0.1069</td>\n",
       "      <td>0.0605</td>\n",
       "      <td>0.1169</td>\n",
       "      <td>0.1043</td>\n",
       "      <td>0.1417</td>\n",
       "      <td>1.0468</td>\n",
       "      <td>0.1146</td>\n",
       "      <td>1.4909</td>\n",
       "      <td>...</td>\n",
       "      <td>0.6523</td>\n",
       "      <td>0.1016</td>\n",
       "      <td>0.1120</td>\n",
       "      <td>0.1349</td>\n",
       "      <td>0.0135</td>\n",
       "      <td>0.0932</td>\n",
       "      <td>0.2583</td>\n",
       "      <td>0.1338</td>\n",
       "      <td>0.2171</td>\n",
       "      <td>0.0742</td>\n",
       "    </tr>\n",
       "    <tr>\n",
       "      <th>1</th>\n",
       "      <td>0.1111</td>\n",
       "      <td>0.2340</td>\n",
       "      <td>0.0694</td>\n",
       "      <td>0.0589</td>\n",
       "      <td>0.0908</td>\n",
       "      <td>0.0449</td>\n",
       "      <td>0.0829</td>\n",
       "      <td>1.1141</td>\n",
       "      <td>0.0689</td>\n",
       "      <td>0.7133</td>\n",
       "      <td>...</td>\n",
       "      <td>0.6307</td>\n",
       "      <td>0.1066</td>\n",
       "      <td>0.0618</td>\n",
       "      <td>0.1412</td>\n",
       "      <td>0.1146</td>\n",
       "      <td>0.1146</td>\n",
       "      <td>0.1496</td>\n",
       "      <td>0.0839</td>\n",
       "      <td>0.1917</td>\n",
       "      <td>0.0747</td>\n",
       "    </tr>\n",
       "    <tr>\n",
       "      <th>2</th>\n",
       "      <td>0.1328</td>\n",
       "      <td>0.0744</td>\n",
       "      <td>0.0731</td>\n",
       "      <td>0.0560</td>\n",
       "      <td>0.0821</td>\n",
       "      <td>0.0721</td>\n",
       "      <td>0.0808</td>\n",
       "      <td>0.9600</td>\n",
       "      <td>0.0892</td>\n",
       "      <td>0.5311</td>\n",
       "      <td>...</td>\n",
       "      <td>0.5741</td>\n",
       "      <td>0.1365</td>\n",
       "      <td>0.1566</td>\n",
       "      <td>0.1621</td>\n",
       "      <td>0.0711</td>\n",
       "      <td>0.1172</td>\n",
       "      <td>0.1533</td>\n",
       "      <td>0.1085</td>\n",
       "      <td>0.1762</td>\n",
       "      <td>0.0945</td>\n",
       "    </tr>\n",
       "    <tr>\n",
       "      <th>3</th>\n",
       "      <td>0.1291</td>\n",
       "      <td>0.1224</td>\n",
       "      <td>0.1059</td>\n",
       "      <td>0.1436</td>\n",
       "      <td>0.1040</td>\n",
       "      <td>0.0998</td>\n",
       "      <td>0.0900</td>\n",
       "      <td>0.9656</td>\n",
       "      <td>0.0913</td>\n",
       "      <td>1.1651</td>\n",
       "      <td>...</td>\n",
       "      <td>0.6096</td>\n",
       "      <td>0.0956</td>\n",
       "      <td>0.0574</td>\n",
       "      <td>0.1457</td>\n",
       "      <td>0.0172</td>\n",
       "      <td>0.0866</td>\n",
       "      <td>0.1475</td>\n",
       "      <td>0.0845</td>\n",
       "      <td>0.2387</td>\n",
       "      <td>0.0813</td>\n",
       "    </tr>\n",
       "    <tr>\n",
       "      <th>4</th>\n",
       "      <td>0.1249</td>\n",
       "      <td>0.1068</td>\n",
       "      <td>0.0895</td>\n",
       "      <td>0.0781</td>\n",
       "      <td>0.0903</td>\n",
       "      <td>0.0686</td>\n",
       "      <td>0.0805</td>\n",
       "      <td>0.7824</td>\n",
       "      <td>0.0742</td>\n",
       "      <td>0.8213</td>\n",
       "      <td>...</td>\n",
       "      <td>0.6389</td>\n",
       "      <td>0.0430</td>\n",
       "      <td>0.1545</td>\n",
       "      <td>0.1312</td>\n",
       "      <td>0.0270</td>\n",
       "      <td>0.0884</td>\n",
       "      <td>0.1633</td>\n",
       "      <td>0.0903</td>\n",
       "      <td>0.1614</td>\n",
       "      <td>0.0818</td>\n",
       "    </tr>\n",
       "  </tbody>\n",
       "</table>\n",
       "<p>5 rows × 21 columns</p>\n",
       "</div>"
      ],
      "text/plain": [
       "   H.period  UD.period.t     H.t  UD.t.i     H.i  UD.i.e     H.e  UD.e.five   \n",
       "0    0.1491       0.2488  0.1069  0.0605  0.1169  0.1043  0.1417     1.0468  \\\n",
       "1    0.1111       0.2340  0.0694  0.0589  0.0908  0.0449  0.0829     1.1141   \n",
       "2    0.1328       0.0744  0.0731  0.0560  0.0821  0.0721  0.0808     0.9600   \n",
       "3    0.1291       0.1224  0.1059  0.1436  0.1040  0.0998  0.0900     0.9656   \n",
       "4    0.1249       0.1068  0.0895  0.0781  0.0903  0.0686  0.0805     0.7824   \n",
       "\n",
       "   H.five  UD.five.Shift.r  ...  UD.Shift.r.o     H.o  UD.o.a     H.a  UD.a.n   \n",
       "0  0.1146           1.4909  ...        0.6523  0.1016  0.1120  0.1349  0.0135  \\\n",
       "1  0.0689           0.7133  ...        0.6307  0.1066  0.0618  0.1412  0.1146   \n",
       "2  0.0892           0.5311  ...        0.5741  0.1365  0.1566  0.1621  0.0711   \n",
       "3  0.0913           1.1651  ...        0.6096  0.0956  0.0574  0.1457  0.0172   \n",
       "4  0.0742           0.8213  ...        0.6389  0.0430  0.1545  0.1312  0.0270   \n",
       "\n",
       "      H.n  UD.n.l     H.l  UD.l.Return  H.Return  \n",
       "0  0.0932  0.2583  0.1338       0.2171    0.0742  \n",
       "1  0.1146  0.1496  0.0839       0.1917    0.0747  \n",
       "2  0.1172  0.1533  0.1085       0.1762    0.0945  \n",
       "3  0.0866  0.1475  0.0845       0.2387    0.0813  \n",
       "4  0.0884  0.1633  0.0903       0.1614    0.0818  \n",
       "\n",
       "[5 rows x 21 columns]"
      ]
     },
     "execution_count": 130,
     "metadata": {},
     "output_type": "execute_result"
    }
   ],
   "source": [
    "# Load dataset and extract first 20 subjects\n",
    "whole_dataset = pd.read_csv('DSL-StrongPasswordData.csv')\n",
    "\n",
    "first_20subject = (whole_dataset.groupby(by='subject', axis=0).count().index[:20])\n",
    "selected_dataset = whole_dataset[whole_dataset['subject'].isin(first_20subject)]\n",
    "\n",
    "# The DD and UD timings of each key have been showed to be highly correlated to each other \n",
    "# in a separate analysis. Hence, we will drop all features starting with 'DD'\n",
    "all_features = selected_dataset.columns[3:34]\n",
    "selected_features = [x for x in all_features if not x.startswith('DD')]\n",
    "\n",
    "# Get a copy of dataset with selected feature columns\n",
    "df = selected_dataset[selected_features].copy()\n",
    "# df['subject'] = selected_dataset['subject']\n",
    "\n",
    "# Show samples\n",
    "df.head()\n",
    "\n",
    "# Get feature columns\n",
    "#feature_data = selected_dataset[selected_features]"
   ]
  },
  {
   "cell_type": "markdown",
   "id": "60704131",
   "metadata": {},
   "source": [
    "#### Perform training and test data splitting"
   ]
  },
  {
   "cell_type": "code",
   "execution_count": 131,
   "id": "0143e9b9",
   "metadata": {},
   "outputs": [
    {
     "data": {
      "text/plain": [
       "(6400, 21)"
      ]
     },
     "execution_count": 131,
     "metadata": {},
     "output_type": "execute_result"
    }
   ],
   "source": [
    "X_train, X_test, y_train, y_test = train_test_split(df, selected_dataset['subject'],test_size=0.20, random_state=42, stratify=selected_dataset['subject'])\n",
    "X_train.shape"
   ]
  },
  {
   "cell_type": "markdown",
   "id": "267e4c30",
   "metadata": {},
   "source": [
    "#### Perform scaling on feature values"
   ]
  },
  {
   "cell_type": "code",
   "execution_count": 132,
   "id": "09411a16",
   "metadata": {},
   "outputs": [],
   "source": [
    "scaler = StandardScaler()\n",
    "X_train_scaled = scaler.fit_transform(X_train)"
   ]
  },
  {
   "cell_type": "code",
   "execution_count": 133,
   "id": "4884db9e",
   "metadata": {},
   "outputs": [],
   "source": [
    "# To store best performing model\n",
    "eval_results = pd.DataFrame({\"Accuracy\" : []})\n"
   ]
  },
  {
   "cell_type": "markdown",
   "id": "3fac75c1",
   "metadata": {},
   "source": [
    "# Single Algorithm Models"
   ]
  },
  {
   "cell_type": "code",
   "execution_count": 134,
   "id": "1dfcc444",
   "metadata": {},
   "outputs": [],
   "source": [
    "# Create a new Experiment to capture logs\n",
    "experiment_id = mlflow.create_experiment(\"Model Evaluation Experiment\")"
   ]
  },
  {
   "cell_type": "markdown",
   "id": "e52f4aaf",
   "metadata": {},
   "source": [
    "## 1) Experiments with Decision Tree Classifier"
   ]
  },
  {
   "cell_type": "code",
   "execution_count": 135,
   "id": "c844b099",
   "metadata": {},
   "outputs": [],
   "source": [
    "Model_Name = \"DECISION TREE\"\n",
    "with mlflow.start_run(run_name=Model_Name,\n",
    "                      experiment_id=experiment_id,\n",
    "                      tags={\"version\": \"v1\", \"priority\": \"P1\"},\n",
    "                      description=\"A run on different MAX_DEPTH settings\") as run:\n",
    "    max_depth = [5, 10, 20, 30, 40, 50, 60]\n",
    "    best_score = 0\n",
    "    \n",
    "    \n",
    "    for n in max_depth:\n",
    "        with mlflow.start_run(nested=True,\n",
    "                              experiment_id=experiment_id,\n",
    "                              run_name=\"CHILD MAX_DEPTH \" + str(n)):\n",
    "            \n",
    "            # Logging parameters\n",
    "            mlflow.log_param(\"max_depth\", n)\n",
    "            mlflow.log_param(\"max_leaf_nodes\", \"Unlimited\")\n",
    "            \n",
    "            # Model instantiation\n",
    "            clf = DecisionTreeClassifier(random_state=42,  max_depth=n)\n",
    "            scores = cross_val_score(clf, X_train_scaled, y_train, cv=10)\n",
    "            \n",
    "             # logging metrics\n",
    "            mlflow.log_metric(\"training_score\", scores.mean())\n",
    "            \n",
    "            # Scoring on the test data set\n",
    "            clf.fit(X_train_scaled, y_train)\n",
    "            X_test_scaled = scaler.transform(X_test)\n",
    "            test_score = clf.score(X_test_scaled, y_test)\n",
    "            mlflow.log_metric(\"test_score\", test_score)\n",
    "            if test_score > best_score:\n",
    "                best_score = test_score\n",
    "\n",
    "# Capture best score\n",
    "eval_results.loc[Model_Name] = {\"Accuracy\": best_score}"
   ]
  },
  {
   "cell_type": "markdown",
   "id": "c602de6d",
   "metadata": {},
   "source": [
    "## 2) Experiment with K-Nearest Neighbour"
   ]
  },
  {
   "cell_type": "code",
   "execution_count": 136,
   "id": "5553d3a3",
   "metadata": {},
   "outputs": [],
   "source": [
    "Model_Name = \"K-NEAREST NEIGHBOUR\"\n",
    "with mlflow.start_run(run_name=Model_Name,\n",
    "                      experiment_id=experiment_id,\n",
    "                      tags={\"version\": \"v1\", \"priority\": \"P1\"},\n",
    "                      description=\"A run on different K values\") as run:\n",
    "    knn = np.arange(16, dtype=int) + 1\n",
    "    best_score = 0\n",
    "    \n",
    "    for k in knn:\n",
    "        with mlflow.start_run(nested=True,\n",
    "                              experiment_id=experiment_id,\n",
    "                              run_name=\"CHILD K = \" + str(k)):\n",
    "            \n",
    "            # Logging parameters\n",
    "            mlflow.log_param(\"k\", k)\n",
    "            \n",
    "            # Model instantiation\n",
    "            clf = KNeighborsClassifier( n_neighbors=k)\n",
    "            \n",
    "            # Measure performance via cross validation fold\n",
    "            scores = cross_val_score(clf, X_train_scaled, y_train, cv=10)\n",
    "            \n",
    "             # logging metrics\n",
    "            mlflow.log_metric(\"training_score\", scores.mean())\n",
    "            \n",
    "            # Scoring on the test data set\n",
    "            clf.fit(X_train_scaled, y_train)\n",
    "            X_test_scaled = scaler.transform(X_test)\n",
    "            test_score = clf.score(X_test_scaled, y_test)\n",
    "            \n",
    "            # Logging test score\n",
    "            mlflow.log_metric(\"test_score\", test_score)\n",
    "            if test_score > best_score:\n",
    "                best_score = test_score\n",
    "\n",
    "# Capture best score\n",
    "eval_results.loc[Model_Name] = {\"Accuracy\": best_score}"
   ]
  },
  {
   "cell_type": "markdown",
   "id": "f0b66599",
   "metadata": {},
   "source": [
    "## 3) Experiment with Naive Bayes Classifier "
   ]
  },
  {
   "cell_type": "code",
   "execution_count": 137,
   "id": "da964650",
   "metadata": {},
   "outputs": [],
   "source": [
    "Model_Name = \"NAIVE BAYES\"\n",
    "with mlflow.start_run(run_name=Model_Name,\n",
    "                      experiment_id=experiment_id,\n",
    "                      tags={\"version\": \"v1\", \"priority\": \"P1\"},\n",
    "                      description=\"A run on different var_smoothing\") as run:\n",
    "    smoothing_var = [1e-10, 1e-9, 1e-8, 1e-7, 1e-6]\n",
    "    best_score = 0\n",
    "    \n",
    "    for s in smoothing_var:\n",
    "        with mlflow.start_run(nested=True,\n",
    "                              experiment_id=experiment_id,\n",
    "                              run_name=\"CHILD smoothing_var = \" + str(s)):\n",
    "            \n",
    "            # Logging parameters\n",
    "            mlflow.log_param(\"smoothing\", s)\n",
    "            \n",
    "            # Model instantiation\n",
    "            clf = GaussianNB(var_smoothing=s)\n",
    "            \n",
    "            # Measure performance via cross validation fold\n",
    "            scores = cross_val_score(clf, X_train_scaled, y_train, cv=10)\n",
    "            \n",
    "             # logging metrics\n",
    "            mlflow.log_metric(\"training_score\", scores.mean())\n",
    "            \n",
    "            # Scoring on the test data set\n",
    "            clf.fit(X_train_scaled, y_train)\n",
    "            X_test_scaled = scaler.transform(X_test)\n",
    "            test_score = clf.score(X_test_scaled, y_test)\n",
    "            \n",
    "            # Logging test score\n",
    "            mlflow.log_metric(\"test_score\", test_score)\n",
    "            if test_score > best_score:\n",
    "                best_score = test_score\n",
    "\n",
    "# Capture best score\n",
    "eval_results.loc[Model_Name] = {\"Accuracy\": best_score}"
   ]
  },
  {
   "cell_type": "markdown",
   "id": "334b5688",
   "metadata": {},
   "source": [
    "## 4) Experiment with Logistic Regression"
   ]
  },
  {
   "cell_type": "code",
   "execution_count": 138,
   "id": "8866cfd3",
   "metadata": {},
   "outputs": [],
   "source": [
    "Model_Name = \"LOGISTIC REGRESSION\"\n",
    "with mlflow.start_run(run_name=Model_Name,\n",
    "                      experiment_id=experiment_id,\n",
    "                      tags={\"version\": \"v1\", \"priority\": \"P1\"},\n",
    "                      description=\"A run on different C\") as run:\n",
    "    \n",
    "    \n",
    "    \n",
    "    C = [1e-3, 1e-2, 0.1, 1, 10, 100, 1000]\n",
    "    best_score = 0\n",
    "    \n",
    "    for r in C:\n",
    "        with mlflow.start_run(nested=True,\n",
    "                              experiment_id=experiment_id,\n",
    "                              run_name=\"CHILD regularization strength = \" + str(r)):\n",
    "            \n",
    "            # Logging parameters\n",
    "            mlflow.log_param(\"C\", r)\n",
    "            \n",
    "            # Model instantiation\n",
    "            clf = LogisticRegression(random_state=42, C=r, max_iter=5000)\n",
    "            \n",
    "            # Measure performance via cross validation fold\n",
    "            scores = cross_val_score(clf, X_train_scaled, y_train, cv=10)\n",
    "            \n",
    "             # logging metrics\n",
    "            mlflow.log_metric(\"training_score\", scores.mean())\n",
    "            \n",
    "            # Scoring on the test data set\n",
    "            clf.fit(X_train_scaled, y_train)\n",
    "            X_test_scaled = scaler.transform(X_test)\n",
    "            test_score = clf.score(X_test_scaled, y_test)\n",
    "            \n",
    "            # Logging test score\n",
    "            mlflow.log_metric(\"test_score\", test_score)\n",
    "            if test_score > best_score:\n",
    "                best_score = test_score\n",
    "\n",
    "# Capture best score\n",
    "eval_results.loc[Model_Name] = {\"Accuracy\": best_score}"
   ]
  },
  {
   "cell_type": "markdown",
   "id": "0b449a03",
   "metadata": {},
   "source": [
    "## 5) Experiment with Support Vector Machine"
   ]
  },
  {
   "cell_type": "code",
   "execution_count": 141,
   "id": "55f38462",
   "metadata": {
    "scrolled": true
   },
   "outputs": [],
   "source": [
    "Model_Name = \"SUPPORT VECTOR MACHINE\"\n",
    "with mlflow.start_run(run_name=Model_Name,\n",
    "                      experiment_id=experiment_id,\n",
    "                      tags={\"version\": \"v1\", \"priority\": \"P1\"},\n",
    "                      description=\"A run on different Gamma and Regularisation\") as run:\n",
    "    \n",
    "    \n",
    "    \n",
    "    C = [1e-3, 1e-2, 0.1, 1, 10, 100]\n",
    "    gamma = [0.01, 0.1, 1, 5]\n",
    "    best_score = 0\n",
    "    \n",
    "    for r in C:\n",
    "        for g in gamma:\n",
    "            with mlflow.start_run(nested=True,\n",
    "                              experiment_id=experiment_id,\n",
    "                              run_name=\"CHILD C = \" + str(r) + \", GAMMA =\" + str(g)):\n",
    "            \n",
    "                # Logging parameters\n",
    "                mlflow.log_param(\"C\", r)\n",
    "                mlflow.log_param(\"Gamma\", g)                  \n",
    "\n",
    "                # Model instantiation\n",
    "                clf = SVC(random_state=42, C=r, gamma=g, kernel='rbf')\n",
    "                \n",
    "                # Measure performance via cross validation fold\n",
    "                scores = cross_val_score(clf, X_train_scaled, y_train, cv=10)\n",
    "\n",
    "                 # logging metrics\n",
    "                mlflow.log_metric(\"training_score\", scores.mean())\n",
    "\n",
    "                # Scoring on the test data set\n",
    "                clf.fit(X_train_scaled, y_train)\n",
    "                X_test_scaled = scaler.transform(X_test)\n",
    "                test_score = clf.score(X_test_scaled, y_test)\n",
    "                \n",
    "                # Logging test score\n",
    "                mlflow.log_metric(\"test_score\", test_score)\n",
    "                if test_score > best_score:\n",
    "                    best_score = test_score\n",
    "\n",
    "# Capture best score\n",
    "eval_results.loc[Model_Name] = {\"Accuracy\": best_score}"
   ]
  },
  {
   "cell_type": "markdown",
   "id": "3fd8ba90",
   "metadata": {},
   "source": [
    "# Ensemble Algorithm Models "
   ]
  },
  {
   "cell_type": "markdown",
   "id": "78632beb",
   "metadata": {},
   "source": [
    "# Comparison of Accuracy on Test Dataset"
   ]
  },
  {
   "cell_type": "code",
   "execution_count": 140,
   "id": "cbf78cdf",
   "metadata": {},
   "outputs": [
    {
     "name": "stdout",
     "output_type": "stream",
     "text": [
      "                        Accuracy\n",
      "DECISION TREE           0.853125\n",
      "K-NEAREST NEIGHBOUR     0.902500\n",
      "NAIVE BAYES             0.826875\n",
      "LOGISTIC REGRESSION     0.900000\n",
      "SUPPORT VECTOR MACHINE  0.931250\n"
     ]
    },
    {
     "data": {
      "text/plain": [
       "<BarContainer object of 5 artists>"
      ]
     },
     "execution_count": 140,
     "metadata": {},
     "output_type": "execute_result"
    },
    {
     "data": {
      "image/png": "[encoded data removed]",
      "text/plain": [
       "<Figure size 1080x576 with 1 Axes>"
      ]
     },
     "metadata": {
      "needs_background": "light"
     },
     "output_type": "display_data"
    },
    {
     "data": {
      "text/plain": [
       "<Figure size 720x720 with 0 Axes>"
      ]
     },
     "metadata": {},
     "output_type": "display_data"
    }
   ],
   "source": [
    "# Plotting best score accuracy vs models\n",
    "print(eval_results)\n",
    "fig, ax = plt.subplots(figsize=(15,8))\n",
    "ax.set_ylabel('Prediction Accuracy')\n",
    "plt.figure(figsize=(10,10))\n",
    "ax.bar(eval_results.index, eval_results['Accuracy'])"
   ]
  },
  {
   "cell_type": "markdown",
   "id": "bf4730d9",
   "metadata": {},
   "source": [
    "#### PCA reduction"
   ]
  },
  {
   "cell_type": "code",
   "execution_count": null,
   "id": "f2319c13",
   "metadata": {},
   "outputs": [],
   "source": [
    "# Perform simple PCA reduction to 98% variance\n",
    "pca = PCA(n_components=0.98,random_state=42)\n",
    "X_train_reduced = pca.fit_transform(X_train)\n",
    "\n",
    "print(pca.n_components_)\n",
    "print(pca.explained_variance_ratio_)\n",
    "print(pca.n_features_in_)"
   ]
  },
  {
   "cell_type": "code",
   "execution_count": null,
   "id": "6dcf8b7e",
   "metadata": {},
   "outputs": [],
   "source": [
    "from sklearn.linear_model import LogisticRegressionCV\n",
    "clf = LogisticRegressionCV(cv=10, random_state=42, max_iter=1000).fit(X_train_reduced, y_train)\n",
    "\n",
    "X_test_reduced = pca.transform(X_test)\n",
    "print(\"Accuracy on training set: {:.3f}\".format(clf.score(X_train_reduced, y_train)))\n",
    "print(\"Accuracy on test set: {:.3f}\".format(clf.score(X_test_reduced, y_test)))"
   ]
  },
  {
   "cell_type": "code",
   "execution_count": null,
   "id": "1e63c3aa",
   "metadata": {},
   "outputs": [],
   "source": [
    "from sklearn.linear_model import LogisticRegressionCV\n",
    "clf = LogisticRegressionCV(cv=10, random_state=42, max_iter=1000).fit(X_train, y_train)\n",
    "print(\"Accuracy on training set: {:.3f}\".format(clf.score(X_train, y_train)))\n",
    "print(\"Accuracy on test set: {:.3f}\".format(clf.score(X_test, y_test)))"
   ]
  }
 ],
 "metadata": {
  "kernelspec": {
   "display_name": "Python 3 (ipykernel)",
   "language": "python",
   "name": "python3"
  },
  "language_info": {
   "codemirror_mode": {
    "name": "ipython",
    "version": 3
   },
   "file_extension": ".py",
   "mimetype": "text/x-python",
   "name": "python",
   "nbconvert_exporter": "python",
   "pygments_lexer": "ipython3",
   "version": "3.10.12"
  }
 },
 "nbformat": 4,
 "nbformat_minor": 5
}
